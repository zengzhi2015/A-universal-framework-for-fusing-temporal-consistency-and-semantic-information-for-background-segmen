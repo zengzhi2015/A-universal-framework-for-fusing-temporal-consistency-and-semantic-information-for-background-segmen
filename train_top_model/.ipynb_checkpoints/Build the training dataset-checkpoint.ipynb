{
 "cells": [
  {
   "cell_type": "code",
   "execution_count": 1,
   "metadata": {},
   "outputs": [],
   "source": [
    "import numpy as np\n",
    "import os\n",
    "from shutil import copyfile"
   ]
  },
  {
   "cell_type": "code",
   "execution_count": 2,
   "metadata": {},
   "outputs": [],
   "source": [
    "PFL = np.load('probability_file_list_for_training_top_model.npy')\n",
    "LFL = np.load('logits_files_list_for_training_top_model.npy')\n",
    "MFL = np.load('mask_file_list_for_training_top_model.npy')"
   ]
  },
  {
   "cell_type": "code",
   "execution_count": 3,
   "metadata": {},
   "outputs": [],
   "source": [
    "path_probabilities = os.getcwd()+'/probabilities/'\n",
    "path_logits = os.getcwd()+'/logits/'\n",
    "path_truths = os.getcwd()+'/groundtruths/'"
   ]
  },
  {
   "cell_type": "code",
   "execution_count": 4,
   "metadata": {},
   "outputs": [],
   "source": [
    "new_PFL = []\n",
    "new_LFL = []\n",
    "new_MFL = []"
   ]
  },
  {
   "cell_type": "code",
   "execution_count": 5,
   "metadata": {},
   "outputs": [],
   "source": [
    "for probability_file,logit_files,truth_file in zip(PFL,LFL,MFL):\n",
    "    new_PFL.append(probability_file.split('/')[-2]+'_'+probability_file.split('/')[-1])\n",
    "    new_MFL.append(truth_file.split('/')[-3]+'_'+truth_file.split('/')[-1])\n",
    "    copyfile(probability_file, path_probabilities+new_PFL[-1])\n",
    "    copyfile(truth_file, path_truths+new_MFL[-1])\n",
    "    \n",
    "    new_LFL.append([logit_file.split('/')[-2]+'_'+logit_file.split('/')[-1] for logit_file in logit_files])\n",
    "    for logit_file,target in zip(logit_files,new_LFL[-1]):\n",
    "        copyfile(logit_file, path_logits+target)"
   ]
  },
  {
   "cell_type": "code",
   "execution_count": 6,
   "metadata": {},
   "outputs": [],
   "source": [
    "np.save('./File_lists/probability_file_list_for_training_top_model',new_PFL)\n",
    "np.save('./File_lists/logits_files_list_for_training_top_model',new_LFL)\n",
    "np.save('./File_lists/mask_file_list_for_training_top_model',new_MFL)"
   ]
  },
  {
   "cell_type": "code",
   "execution_count": 7,
   "metadata": {},
   "outputs": [
    {
     "data": {
      "text/plain": [
       "600"
      ]
     },
     "execution_count": 7,
     "metadata": {},
     "output_type": "execute_result"
    }
   ],
   "source": [
    "len(new_MFL)"
   ]
  },
  {
   "cell_type": "code",
   "execution_count": 8,
   "metadata": {},
   "outputs": [
    {
     "data": {
      "text/plain": [
       "'logit_000619_13.png'"
      ]
     },
     "execution_count": 8,
     "metadata": {},
     "output_type": "execute_result"
    }
   ],
   "source": [
    "target"
   ]
  },
  {
   "cell_type": "code",
   "execution_count": null,
   "metadata": {},
   "outputs": [],
   "source": []
  }
 ],
 "metadata": {
  "kernelspec": {
   "display_name": "Python 3",
   "language": "python",
   "name": "python3"
  },
  "language_info": {
   "codemirror_mode": {
    "name": "ipython",
    "version": 3
   },
   "file_extension": ".py",
   "mimetype": "text/x-python",
   "name": "python",
   "nbconvert_exporter": "python",
   "pygments_lexer": "ipython3",
   "version": "3.6.7"
  }
 },
 "nbformat": 4,
 "nbformat_minor": 2
}
