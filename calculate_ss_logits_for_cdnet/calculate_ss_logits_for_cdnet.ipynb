{
 "cells": [
  {
   "cell_type": "code",
   "execution_count": null,
   "metadata": {},
   "outputs": [],
   "source": [
    "import os\n",
    "import numpy as np\n",
    "from PIL import Image\n",
    "import cv2\n",
    "\n",
    "import tensorflow as tf"
   ]
  },
  {
   "cell_type": "markdown",
   "metadata": {},
   "source": [
    "1. Create folders for storing ss logits"
   ]
  },
  {
   "cell_type": "code",
   "execution_count": null,
   "metadata": {},
   "outputs": [],
   "source": [
    "cdnet_root_path = '/home/Datasets/CDnet2014/dataset'   \n",
    "cdnet_ss_logits_root_path = '/home/Datasets/CDnet2014_SS_Logits'"
   ]
  },
  {
   "cell_type": "code",
   "execution_count": null,
   "metadata": {
    "scrolled": true
   },
   "outputs": [],
   "source": [
    "for root, _, files in os.walk(cdnet_root_path):\n",
    "    \n",
    "    relative_path_hierarch_list = root.split('/')[len(cdnet_root_path.split('/')):]\n",
    "    level_above_dataset_root_path = len(relative_path_hierarch_list)\n",
    "    \n",
    "    if len(relative_path_hierarch_list) == 1:\n",
    "        level_1_dir_to_create = cdnet_ss_logits_root_path + '/' + relative_path_hierarch_list[0]\n",
    "        if not os.path.exists(level_1_dir_to_create):\n",
    "            os.mkdir(level_1_dir_to_create)\n",
    "        print(relative_path_hierarch_list)"
   ]
  },
  {
   "cell_type": "code",
   "execution_count": null,
   "metadata": {},
   "outputs": [],
   "source": [
    "for root, _, files in os.walk(cdnet_root_path):\n",
    "    \n",
    "    relative_path_hierarch_list = root.split('/')[len(cdnet_root_path.split('/')):]\n",
    "    level_above_dataset_root_path = len(relative_path_hierarch_list)\n",
    "    \n",
    "    if len(relative_path_hierarch_list) == 2:\n",
    "        level_2_dir_to_create = cdnet_ss_logits_root_path + '/' + relative_path_hierarch_list[0] + '/' + relative_path_hierarch_list[1]\n",
    "        if not os.path.exists(level_2_dir_to_create):\n",
    "            os.mkdir(level_2_dir_to_create)\n",
    "        #print(relative_path_hierarch_list)"
   ]
  },
  {
   "cell_type": "markdown",
   "metadata": {},
   "source": [
    "2. Define functions for ss"
   ]
  },
  {
   "cell_type": "code",
   "execution_count": null,
   "metadata": {},
   "outputs": [],
   "source": [
    "class DeepLabModel(object):\n",
    "    \"\"\"Class to load deeplab model and run inference.\"\"\"\n",
    "\n",
    "    INPUT_TENSOR_NAME = 'ImageTensor:0'\n",
    "    OUTPUT_TENSOR_NAME = 'SemanticPredictions:0'\n",
    "    LOGITS_TENSOR_NAME = 'Mean:0'\n",
    "\n",
    "    def __init__(self, frozen_inference_graph_path):\n",
    "        \"\"\"Creates and loads pretrained deeplab model.\"\"\"\n",
    "        self.graph = tf.Graph()\n",
    "\n",
    "        graph_def = tf.GraphDef()\n",
    "        # Read from frozen graph\n",
    "        with tf.gfile.GFile(frozen_inference_graph_path, 'rb') as f:\n",
    "            graph_def.ParseFromString(f.read())\n",
    "\n",
    "        if graph_def is None:\n",
    "            raise RuntimeError('Cannot find inference graph.')\n",
    "\n",
    "        with self.graph.as_default():\n",
    "            tf.import_graph_def(graph_def, name='')\n",
    "\n",
    "        self.sess = tf.Session(graph=self.graph)\n",
    "\n",
    "    def run(self, image):\n",
    "        \"\"\"Runs inference on a single image.\n",
    "\n",
    "        Args:\n",
    "            image: A PIL.Image object, raw input image.\n",
    "\n",
    "        Returns:\n",
    "            resized_image: RGB image.\n",
    "            seg_logits: segmentation logits\n",
    "            seg_map: Segmentation map of `resized_image`.\n",
    "        \"\"\"\n",
    "        width, height = image.size\n",
    "        image_array = np.asarray(image.convert('RGB'))\n",
    "        batch_seg_logits, batch_seg_map = self.sess.run(\n",
    "            [self.LOGITS_TENSOR_NAME,self.OUTPUT_TENSOR_NAME],\n",
    "            feed_dict={self.INPUT_TENSOR_NAME: [image_array]})\n",
    "        seg_logits = batch_seg_logits[0]\n",
    "        seg_map = batch_seg_map[0]\n",
    "        return image_array, seg_logits[:height,:width,:], seg_map[:height,:width]\n",
    "\n",
    "    def write_graph(self,log_path):\n",
    "        tf.summary.FileWriter(log_path, self.sess.graph)"
   ]
  },
  {
   "cell_type": "code",
   "execution_count": null,
   "metadata": {},
   "outputs": [],
   "source": [
    "frozen_inference_graph_path = './Models/frozen_inference_graph.pd'\n",
    "print('loading model, this might take a while...')\n",
    "MODEL = DeepLabModel(frozen_inference_graph_path)\n",
    "print('model loaded successfully!')"
   ]
  },
  {
   "cell_type": "markdown",
   "metadata": {},
   "source": [
    "3. Calculate logits"
   ]
  },
  {
   "cell_type": "code",
   "execution_count": null,
   "metadata": {},
   "outputs": [],
   "source": [
    "def create_cdnet_label_colormap():\n",
    "    \"\"\"Creates a label colormap used in CDnet.\n",
    "\n",
    "    Returns:\n",
    "        A Colormap for visualizing segmentation results.\n",
    "    \"\"\"\n",
    "    colormap = np.zeros((256, 3), dtype=int)\n",
    "    ind = np.arange(256, dtype=int)\n",
    "\n",
    "    for shift in reversed(range(8)):\n",
    "        for channel in range(3):\n",
    "            colormap[:, channel] |= ((ind >> channel) & 1) << shift\n",
    "        ind >>= 3\n",
    "\n",
    "    return colormap"
   ]
  },
  {
   "cell_type": "code",
   "execution_count": null,
   "metadata": {},
   "outputs": [],
   "source": [
    "def label_to_color_image(label):\n",
    "    \"\"\"Adds color defined by the dataset colormap to the label.\n",
    "\n",
    "    Args:\n",
    "        label: A 2D array with integer type, storing the segmentation label.\n",
    "\n",
    "    Returns:\n",
    "        result: A 2D array with floating type. The element of the array\n",
    "            is the color indexed by the corresponding element in the input label\n",
    "            to the PASCAL color map.\n",
    "\n",
    "    Raises:\n",
    "        ValueError: If label is not of rank 2 or its value is larger than color\n",
    "            map maximum entry.\n",
    "    \"\"\"\n",
    "    if label.ndim != 2:\n",
    "        raise ValueError('Expect 2-D input label')\n",
    "\n",
    "    colormap = create_cdnet_label_colormap()\n",
    "\n",
    "    if np.max(label) >= len(colormap):\n",
    "        raise ValueError('label value too large.')\n",
    "\n",
    "    return colormap[label]"
   ]
  },
  {
   "cell_type": "code",
   "execution_count": null,
   "metadata": {},
   "outputs": [],
   "source": [
    "def save_logits(seg_logits, save_dir, image_name):\n",
    "    for i in range(seg_logits.shape[-1]):\n",
    "        cv2.imwrite(save_dir+'/logit_'+image_name+'_{}.png'.format(i),np.uint8(seg_logits[:,:,i]*255),[cv2.IMWRITE_PNG_COMPRESSION, 9])"
   ]
  },
  {
   "cell_type": "code",
   "execution_count": null,
   "metadata": {
    "scrolled": true
   },
   "outputs": [],
   "source": [
    "for root, _, _ in os.walk(cdnet_root_path):\n",
    "    \n",
    "    relative_path_hierarch_list = root.split('/')[len(cdnet_root_path.split('/')):]\n",
    "    level_above_dataset_root_path = len(relative_path_hierarch_list)\n",
    "    \n",
    "    if len(relative_path_hierarch_list) == 2:\n",
    "        dir_storing_images = root + '/input'\n",
    "        dir_to_store_logits = cdnet_ss_logits_root_path + '/' + relative_path_hierarch_list[0] + '/' + relative_path_hierarch_list[1]\n",
    "        \n",
    "        print(dir_to_store_logits)\n",
    "        for _,_, files in os.walk(dir_storing_images):\n",
    "            for file in files:\n",
    "                file_index = file[-10:-4]\n",
    "                image_file = dir_storing_images + '/' + file\n",
    "                #print(image_file)\n",
    "                image_array, seg_logits, seg_map = MODEL.run(Image.open(image_file))\n",
    "                seg_image = label_to_color_image(seg_map).astype(np.uint8)\n",
    "                save_logits(seg_logits, dir_to_store_logits, file_index)\n",
    "                cv2.imwrite(dir_to_store_logits+'/seg_'+file_index+'.png',cv2.cvtColor(seg_image, cv2.COLOR_RGB2BGR),[cv2.IMWRITE_PNG_COMPRESSION, 9])\n"
   ]
  },
  {
   "cell_type": "code",
   "execution_count": null,
   "metadata": {},
   "outputs": [],
   "source": []
  },
  {
   "cell_type": "code",
   "execution_count": null,
   "metadata": {},
   "outputs": [],
   "source": []
  }
 ],
 "metadata": {
  "kernelspec": {
   "display_name": "Python 3",
   "language": "python",
   "name": "python3"
  },
  "language_info": {
   "codemirror_mode": {
    "name": "ipython",
    "version": 3
   },
   "file_extension": ".py",
   "mimetype": "text/x-python",
   "name": "python",
   "nbconvert_exporter": "python",
   "pygments_lexer": "ipython3",
   "version": "3.6.7"
  }
 },
 "nbformat": 4,
 "nbformat_minor": 2
}
